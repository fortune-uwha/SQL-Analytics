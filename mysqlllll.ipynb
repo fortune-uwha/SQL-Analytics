{
 "cells": [
  {
   "cell_type": "code",
   "execution_count": 7,
   "metadata": {},
   "outputs": [],
   "source": [
    "import mysql.connector\n",
    "from tabulate import tabulate"
   ]
  },
  {
   "cell_type": "code",
   "execution_count": 9,
   "metadata": {},
   "outputs": [
    {
     "name": "stdout",
     "output_type": "stream",
     "text": [
      "  store_id  last_name    first_name\n",
      "----------  -----------  ------------\n",
      "         1  SMITH        MARY\n",
      "         1  JOHNSON      PATRICIA\n",
      "         1  WILLIAMS     LINDA\n",
      "         2  JONES        BARBARA\n",
      "         1  BROWN        ELIZABETH\n"
     ]
    }
   ],
   "source": [
    "mycursor = mydb.cursor()\n",
    "mycursor.execute(\"USE mavenmovies\")\n",
    "\n",
    "mycursor.execute(\"SELECT store_id,last_name,first_name FROM customer LIMIT 5 \")\n",
    "myresult = mycursor.fetchall()\n",
    "\n",
    "\n",
    "print(tabulate(myresult, headers = ['store_id','last_name','first_name'] ,tablefmt='mysql'))"
   ]
  },
  {
   "cell_type": "code",
   "execution_count": 10,
   "metadata": {},
   "outputs": [
    {
     "name": "stdout",
     "output_type": "stream",
     "text": [
      "-  -  ---------  --------  -----------------------------------  -  -  -------------------  -------------------\n",
      "1  1  MARY       SMITH     MARY.SMITH@sakilacustomer.org        5  1  2006-02-14 22:04:36  2006-02-15 04:57:20\n",
      "2  1  PATRICIA   JOHNSON   PATRICIA.JOHNSON@sakilacustomer.org  6  1  2006-02-14 22:04:36  2006-02-15 04:57:20\n",
      "3  1  LINDA      WILLIAMS  LINDA.WILLIAMS@sakilacustomer.org    7  1  2006-02-14 22:04:36  2006-02-15 04:57:20\n",
      "4  2  BARBARA    JONES     BARBARA.JONES@sakilacustomer.org     8  1  2006-02-14 22:04:36  2006-02-15 04:57:20\n",
      "5  1  ELIZABETH  BROWN     ELIZABETH.BROWN@sakilacustomer.org   9  1  2006-02-14 22:04:36  2006-02-15 04:57:20\n",
      "-  -  ---------  --------  -----------------------------------  -  -  -------------------  -------------------\n"
     ]
    }
   ],
   "source": [
    "mycursor.execute(\"SELECT * FROM customer LIMIT 5 \")\n",
    "myresult = mycursor.fetchall()\n",
    "print(tabulate(myresult,tablefmt='mysql'))"
   ]
  },
  {
   "cell_type": "code",
   "execution_count": null,
   "metadata": {},
   "outputs": [],
   "source": []
  }
 ],
 "metadata": {
  "kernelspec": {
   "display_name": "Python 3",
   "language": "python",
   "name": "python3"
  },
  "language_info": {
   "codemirror_mode": {
    "name": "ipython",
    "version": 3
   },
   "file_extension": ".py",
   "mimetype": "text/x-python",
   "name": "python",
   "nbconvert_exporter": "python",
   "pygments_lexer": "ipython3",
   "version": "3.7.3"
  }
 },
 "nbformat": 4,
 "nbformat_minor": 4
}
