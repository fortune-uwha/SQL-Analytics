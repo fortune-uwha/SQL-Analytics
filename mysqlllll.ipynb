{
 "cells": [
  {
   "cell_type": "markdown",
   "metadata": {},
   "source": [
    "# MAVEN MOVIES DATABASE - ANALYTICS USING SQL AND PYTHON3"
   ]
  },
  {
   "cell_type": "markdown",
   "metadata": {},
   "source": [
    "## This database belongs to maven analytics and I'll be using it to answer some key question a manager or supervisor of the maven movies store might ask\n",
    "\n",
    "#### 1) The Database is in MySql and I'll be using MySql connector to query the Database , I'll also try to create visualizations regarding the queried data , which help in informed decision making "
   ]
  },
  {
   "cell_type": "code",
   "execution_count": 14,
   "metadata": {},
   "outputs": [],
   "source": [
    "import mysql.connector\n",
    "from tabulate import tabulate"
   ]
  },
  {
   "cell_type": "markdown",
   "metadata": {},
   "source": [
    "## Connecting to Database and Password has been removed for privacy purposes"
   ]
  },
  {
   "cell_type": "markdown",
   "metadata": {},
   "source": [
    "#### Creating a cursor to parse the database "
   ]
  },
  {
   "cell_type": "code",
   "execution_count": 15,
   "metadata": {},
   "outputs": [],
   "source": [
    "mycursor = mydb.cursor()"
   ]
  },
  {
   "cell_type": "markdown",
   "metadata": {},
   "source": [
    "#### A simple query to get the store_id , last_name and first_name of 5 customers "
   ]
  },
  {
   "cell_type": "code",
   "execution_count": 16,
   "metadata": {},
   "outputs": [
    {
     "name": "stdout",
     "output_type": "stream",
     "text": [
      "  store_id  last_name    first_name\n",
      "----------  -----------  ------------\n",
      "         1  SMITH        MARY\n",
      "         1  JOHNSON      PATRICIA\n",
      "         1  WILLIAMS     LINDA\n",
      "         2  JONES        BARBARA\n",
      "         1  BROWN        ELIZABETH\n"
     ]
    }
   ],
   "source": [
    "mycursor.execute(\"USE mavenmovies\")\n",
    "mycursor.execute(\"SELECT store_id,last_name,first_name FROM customer LIMIT 5 \")\n",
    "myresult = mycursor.fetchall()\n",
    "print(tabulate(myresult, headers = ['store_id','last_name','first_name'] ,tablefmt='mysql'))"
   ]
  },
  {
   "cell_type": "code",
   "execution_count": 30,
   "metadata": {},
   "outputs": [
    {
     "name": "stdout",
     "output_type": "stream",
     "text": [
      "store_id  last_name    first_name\n",
      "MARY     SMITH     1\n",
      "\n",
      "\n",
      "store_id  last_name    first_name\n",
      "PATRICIA     JOHNSON     1\n",
      "\n",
      "\n",
      "store_id  last_name    first_name\n",
      "LINDA     WILLIAMS     1\n",
      "\n",
      "\n",
      "store_id  last_name    first_name\n",
      "BARBARA     JONES     2\n",
      "\n",
      "\n",
      "store_id  last_name    first_name\n",
      "ELIZABETH     BROWN     1\n",
      "\n",
      "\n"
     ]
    }
   ],
   "source": [
    "mycursor.execute(\"SELECT store_id,last_name,first_name FROM customer LIMIT 5 \")\n",
    "myresult = mycursor.fetchall()\n",
    "\n",
    "for row in myresult:\n",
    "    fname = row[2]\n",
    "    lname = row[1]\n",
    "    store_id = row[0]\n",
    "    # Now print fetched result\n",
    "    print(\"store_id  last_name    first_name\")\n",
    "    print(fname,\"   \", lname,\"   \", store_id )\n",
    "    print(\"\\n\")"
   ]
  },
  {
   "cell_type": "markdown",
   "metadata": {},
   "source": [
    "### 1.\tWe will need a list of all staff members, including their first and last names, email addresses, and the store identification number where they work. "
   ]
  },
  {
   "cell_type": "code",
   "execution_count": 32,
   "metadata": {},
   "outputs": [
    {
     "name": "stdout",
     "output_type": "stream",
     "text": [
      "first_name    last_name    email                           store_id\n",
      "------------  -----------  ----------------------------  ----------\n",
      "Mike          Hillyer      Mike.Hillyer@sakilastaff.com           1\n",
      "Jon           Stephens     Jon.Stephens@sakilastaff.com           2\n"
     ]
    }
   ],
   "source": [
    "query = \"\"\"\n",
    "\n",
    "SELECT first_name, last_name , email , store_id\n",
    "FROM staff\n",
    "\"\"\"\n",
    "mycursor.execute(query)\n",
    "myresult = mycursor.fetchall()\n",
    "print(tabulate(myresult, headers = ['first_name', 'last_name' , 'email' , 'store_id'] ,tablefmt='mysql'))"
   ]
  },
  {
   "cell_type": "markdown",
   "metadata": {},
   "source": [
    "## We can also convert the queried output to a pandas dataFrame and then can carry out visualiztion / cleaning etc"
   ]
  },
  {
   "cell_type": "code",
   "execution_count": 33,
   "metadata": {},
   "outputs": [],
   "source": [
    "import pandas as pd"
   ]
  },
  {
   "cell_type": "code",
   "execution_count": 36,
   "metadata": {},
   "outputs": [],
   "source": [
    "query = \"\"\"\n",
    "\n",
    "SELECT first_name, last_name , email , store_id\n",
    "FROM staff\n",
    "\"\"\"\n",
    "mycursor.execute(query)\n",
    "\n",
    "myresult = mycursor.fetchall()"
   ]
  },
  {
   "cell_type": "code",
   "execution_count": 37,
   "metadata": {},
   "outputs": [],
   "source": [
    "df_query1 = pd.DataFrame(myresult)\n",
    "\n",
    "column_names = [i[0] for i in mycursor.description]\n",
    "\n",
    "df_query1.columns = column_names"
   ]
  },
  {
   "cell_type": "code",
   "execution_count": 38,
   "metadata": {},
   "outputs": [
    {
     "data": {
      "text/html": [
       "<div>\n",
       "<style scoped>\n",
       "    .dataframe tbody tr th:only-of-type {\n",
       "        vertical-align: middle;\n",
       "    }\n",
       "\n",
       "    .dataframe tbody tr th {\n",
       "        vertical-align: top;\n",
       "    }\n",
       "\n",
       "    .dataframe thead th {\n",
       "        text-align: right;\n",
       "    }\n",
       "</style>\n",
       "<table border=\"1\" class=\"dataframe\">\n",
       "  <thead>\n",
       "    <tr style=\"text-align: right;\">\n",
       "      <th></th>\n",
       "      <th>first_name</th>\n",
       "      <th>last_name</th>\n",
       "      <th>email</th>\n",
       "      <th>store_id</th>\n",
       "    </tr>\n",
       "  </thead>\n",
       "  <tbody>\n",
       "    <tr>\n",
       "      <th>0</th>\n",
       "      <td>Mike</td>\n",
       "      <td>Hillyer</td>\n",
       "      <td>Mike.Hillyer@sakilastaff.com</td>\n",
       "      <td>1</td>\n",
       "    </tr>\n",
       "    <tr>\n",
       "      <th>1</th>\n",
       "      <td>Jon</td>\n",
       "      <td>Stephens</td>\n",
       "      <td>Jon.Stephens@sakilastaff.com</td>\n",
       "      <td>2</td>\n",
       "    </tr>\n",
       "  </tbody>\n",
       "</table>\n",
       "</div>"
      ],
      "text/plain": [
       "  first_name last_name                         email  store_id\n",
       "0       Mike   Hillyer  Mike.Hillyer@sakilastaff.com         1\n",
       "1        Jon  Stephens  Jon.Stephens@sakilastaff.com         2"
      ]
     },
     "execution_count": 38,
     "metadata": {},
     "output_type": "execute_result"
    }
   ],
   "source": [
    "df_query1"
   ]
  },
  {
   "cell_type": "markdown",
   "metadata": {},
   "source": [
    "### 2) We will need separate counts of inventory items held at each of your two stores"
   ]
  },
  {
   "cell_type": "code",
   "execution_count": 39,
   "metadata": {},
   "outputs": [],
   "source": [
    "query = \"\"\"\n",
    "SELECT COUNT(inventory_id), store_id\n",
    "FROM inventory \n",
    "GROUP BY store_id\n",
    "\"\"\"\n",
    "mycursor.execute(query)\n",
    "\n",
    "myresult = mycursor.fetchall()\n",
    "df_query2 = pd.DataFrame(myresult)\n",
    "\n",
    "column_names = [i[0] for i in mycursor.description]\n",
    "\n",
    "df_query2.columns = column_names"
   ]
  },
  {
   "cell_type": "code",
   "execution_count": 40,
   "metadata": {},
   "outputs": [
    {
     "data": {
      "text/html": [
       "<div>\n",
       "<style scoped>\n",
       "    .dataframe tbody tr th:only-of-type {\n",
       "        vertical-align: middle;\n",
       "    }\n",
       "\n",
       "    .dataframe tbody tr th {\n",
       "        vertical-align: top;\n",
       "    }\n",
       "\n",
       "    .dataframe thead th {\n",
       "        text-align: right;\n",
       "    }\n",
       "</style>\n",
       "<table border=\"1\" class=\"dataframe\">\n",
       "  <thead>\n",
       "    <tr style=\"text-align: right;\">\n",
       "      <th></th>\n",
       "      <th>COUNT(inventory_id)</th>\n",
       "      <th>store_id</th>\n",
       "    </tr>\n",
       "  </thead>\n",
       "  <tbody>\n",
       "    <tr>\n",
       "      <th>0</th>\n",
       "      <td>2270</td>\n",
       "      <td>1</td>\n",
       "    </tr>\n",
       "    <tr>\n",
       "      <th>1</th>\n",
       "      <td>2311</td>\n",
       "      <td>2</td>\n",
       "    </tr>\n",
       "  </tbody>\n",
       "</table>\n",
       "</div>"
      ],
      "text/plain": [
       "   COUNT(inventory_id)  store_id\n",
       "0                 2270         1\n",
       "1                 2311         2"
      ]
     },
     "execution_count": 40,
     "metadata": {},
     "output_type": "execute_result"
    }
   ],
   "source": [
    "df_query2"
   ]
  },
  {
   "cell_type": "code",
   "execution_count": null,
   "metadata": {},
   "outputs": [],
   "source": []
  }
 ],
 "metadata": {
  "kernelspec": {
   "display_name": "Python 3",
   "language": "python",
   "name": "python3"
  },
  "language_info": {
   "codemirror_mode": {
    "name": "ipython",
    "version": 3
   },
   "file_extension": ".py",
   "mimetype": "text/x-python",
   "name": "python",
   "nbconvert_exporter": "python",
   "pygments_lexer": "ipython3",
   "version": "3.7.3"
  }
 },
 "nbformat": 4,
 "nbformat_minor": 4
}
